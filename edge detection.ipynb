import cv2 
import matplotlib.pyplot as plt 
import numpy as np
# Load the image 
image = cv2.imread(r"C:\Users\acer\Downloads\leaf-blotch-buckeye-guignardia-aesculi-grabowski.jpg") 
#Plot the original image 
plt.subplot(1, 2, 1) 
plt.title("Original") 
plt.imshow(image) 
# Adjust the brightness and contrast 
# Adjusts the brightness by adding 10 to each pixel value 

alpha = 1.5  
# control brightness by 50 
beta = 50  
image2 = cv2.convertScaleAbs(image, alpha=alpha, beta=beta)
#Save the image 
cv2.imwrite('Brightness & contrast.jpg', image2) 
#Plot the contrast image 
plt.subplot(1, 2, 2) 
plt.title("Brightness & contrast") 
plt.imshow(image2) 
plt.show()
#Plot the original image 
plt.subplot(1, 2, 1) 
plt.title("Original") 
plt.imshow(image) 
  
# Create the sharpening kernel 
kernel = np.array([[0, -1, 0], [-1, 5, -1], [0, -1, 0]]) 
  
# Sharpen the image 
sharpened_image = cv2.filter2D(image, -1, kernel) 
  
#Save the image 
cv2.imwrite('sharpened_image.jpg', sharpened_image) 
  
#Plot the sharpened image 
plt.subplot(1, 2, 2) 
plt.title("Sharpening") 
plt.imshow(sharpened_image) 
plt.show() 
#Plot the original image 
plt.subplot(1, 2, 1) 
plt.title("Original") 
plt.imshow(image) 
  
# Sharpen the image using the Laplacian operator 
sharpened_image2 = cv2.Laplacian(image, cv2.CV_64F) 
  
#Save the image 
cv2.imwrite('Laplacian sharpened_image.jpg', sharpened_image2) 
  
#Plot the sharpened image 
plt.subplot(1, 2, 2) 
plt.title("Laplacian Sharpening") 
plt.imshow(sharpened_image2) 
plt.show()
#Plot the original image 
plt.subplot(1, 2, 1) 
plt.title("Original") 
plt.imshow(image) 
  
# Remove noise using a median filter 
filtered_image = cv2.medianBlur(image, 11) 
  
#Save the image 
cv2.imwrite('Median Blur.jpg', filtered_image) 
  
#Plot the blured image 
plt.subplot(1, 2, 2) 
plt.title("Median Blur") 
plt.imshow(filtered_image) 
plt.show()
#Plot the original image 
plt.subplot(1, 2, 1) 
plt.title("Original") 
plt.imshow(image) 
  
# Remove noise using a Gaussian filter 
filtered_image2 = cv2.GaussianBlur(image, (7, 7), 0) 
  
#Save the image 
cv2.imwrite('Gaussian Blur.jpg', filtered_image2) 
  
#Plot the blured image 
plt.subplot(1, 2, 2) 
plt.title("Gaussian Blur") 
plt.imshow(filtered_image2) 
plt.show()
image = cv2.cvtColor(image, cv2.COLOR_BGR2RGB)  # Convert BGR to RGB for visualization

# Convert the image to grayscale
gray_image = cv2.cvtColor(image, cv2.COLOR_RGB2GRAY)

# Apply Canny edge detection
edges = cv2.Canny(gray_image, 50, 150)  # Adjust thresholds (50, 150) as needed

# Plot the original and edge-detected images
plt.figure(figsize=(10, 5))

# Original image
plt.subplot(1, 2, 1)
plt.title("Original Image")
plt.imshow(image)
plt.axis("off")

# Edge detection result
plt.subplot(1, 2, 2)
plt.title("Edge Detection")
plt.imshow(edges, cmap="gray")
plt.axis("off")

plt.tight_layout()
plt.show()
#Plot the original image 
plt.subplot(1, 2, 1) 
plt.title("Original") 
plt.imshow(image) 
  
# Inverse by subtracting from 255 
inverse_image = 255 -  image 
  
#Save the image 
cv2.imwrite('inverse_image.jpg', inverse_image) 
#Plot the Inverse image 
plt.subplot(1, 2, 2) 
plt.title("Inverse color") 
plt.imshow(inverse_image) 
plt.show()
#Plot the original image 
plt.subplot(1, 2, 1) 
plt.title("Original") 
plt.imshow(image) 
  
# Convert the image from BGR to HSV color space 
image = cv2.cvtColor(image, cv2.COLOR_RGB2HSV) 
  
# Adjust the hue, saturation, and value of the image 
# Adjusts the hue by multiplying it by 0.7 
image[:, :, 0] = image[:, :, 0] * 0.7
# Adjusts the saturation by multiplying it by 1.5 
image[:, :, 1] = image[:, :, 1] * 1.5
# Adjusts the value by multiplying it by 0.5 
image[:, :, 2] = image[:, :, 2] * 0.5
  
# Convert the image back to BGR color space 
image2 = cv2.cvtColor(image, cv2.COLOR_HSV2BGR) 
  
#Save the image 
cv2.imwrite('enhanced coloured.jpg', image2) 
  
#Plot the enhanced image 
plt.subplot(1, 2, 2) 
plt.title("enhanced coloured") 
plt.imshow(image2) 
plt.show()
